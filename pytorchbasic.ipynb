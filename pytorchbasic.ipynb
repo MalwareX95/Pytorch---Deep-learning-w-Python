{
  "nbformat": 4,
  "nbformat_minor": 0,
  "metadata": {
    "colab": {
      "name": "pytorchbasic.ipynb",
      "provenance": [],
      "authorship_tag": "ABX9TyMlaOF02oBsQJ3cM9rH6Mt1",
      "include_colab_link": true
    },
    "kernelspec": {
      "name": "python3",
      "display_name": "Python 3"
    }
  },
  "cells": [
    {
      "cell_type": "markdown",
      "metadata": {
        "id": "view-in-github",
        "colab_type": "text"
      },
      "source": [
        "<a href=\"https://colab.research.google.com/github/MalwareX95/Pytorch---Deep-learning-w-Python/blob/main/pytorchbasic.ipynb\" target=\"_parent\"><img src=\"https://colab.research.google.com/assets/colab-badge.svg\" alt=\"Open In Colab\"/></a>"
      ]
    },
    {
      "cell_type": "code",
      "metadata": {
        "id": "eWWpYitRObH4",
        "outputId": "793a7f3f-4077-4311-cfb8-9d0de38ee860",
        "colab": {
          "base_uri": "https://localhost:8080/"
        }
      },
      "source": [
        "import torch\n",
        "\n",
        "x = torch.Tensor([5, 3])\n",
        "y = torch.Tensor([2, 1])\n",
        "\n",
        "print(x * y)"
      ],
      "execution_count": 2,
      "outputs": [
        {
          "output_type": "stream",
          "text": [
            "tensor([10.,  3.])\n"
          ],
          "name": "stdout"
        }
      ]
    },
    {
      "cell_type": "code",
      "metadata": {
        "id": "PnspJ5noOi0A"
      },
      "source": [
        "x = torch.zeros([2, 5])"
      ],
      "execution_count": 3,
      "outputs": []
    },
    {
      "cell_type": "code",
      "metadata": {
        "id": "xW4BWVbJOzxf",
        "outputId": "01760791-a064-4d93-fc44-de639c3cb5c6",
        "colab": {
          "base_uri": "https://localhost:8080/"
        }
      },
      "source": [
        "print(x)"
      ],
      "execution_count": 4,
      "outputs": [
        {
          "output_type": "stream",
          "text": [
            "tensor([[0., 0., 0., 0., 0.],\n",
            "        [0., 0., 0., 0., 0.]])\n"
          ],
          "name": "stdout"
        }
      ]
    },
    {
      "cell_type": "code",
      "metadata": {
        "id": "zOX1fbp8O1Y9",
        "outputId": "6a8be805-4aec-466c-d3c9-3c274d02d9f8",
        "colab": {
          "base_uri": "https://localhost:8080/"
        }
      },
      "source": [
        "x.shape"
      ],
      "execution_count": 5,
      "outputs": [
        {
          "output_type": "execute_result",
          "data": {
            "text/plain": [
              "torch.Size([2, 5])"
            ]
          },
          "metadata": {
            "tags": []
          },
          "execution_count": 5
        }
      ]
    },
    {
      "cell_type": "code",
      "metadata": {
        "id": "8D10RWXUQM9R"
      },
      "source": [
        "y = torch.rand([2, 5])"
      ],
      "execution_count": 6,
      "outputs": []
    },
    {
      "cell_type": "code",
      "metadata": {
        "id": "KFompd7XQT2s",
        "outputId": "c01b5999-23ed-40e0-d597-497e06f5e990",
        "colab": {
          "base_uri": "https://localhost:8080/"
        }
      },
      "source": [
        "y"
      ],
      "execution_count": 7,
      "outputs": [
        {
          "output_type": "execute_result",
          "data": {
            "text/plain": [
              "tensor([[0.7662, 0.2578, 0.1472, 0.1042, 0.3929],\n",
              "        [0.6102, 0.7158, 0.5953, 0.6156, 0.7138]])"
            ]
          },
          "metadata": {
            "tags": []
          },
          "execution_count": 7
        }
      ]
    },
    {
      "cell_type": "code",
      "metadata": {
        "id": "L-Pc9TH_QVQp",
        "outputId": "2fc0119f-d977-4624-ef67-d9898c8f2614",
        "colab": {
          "base_uri": "https://localhost:8080/"
        }
      },
      "source": [
        "y.view([1, 10])"
      ],
      "execution_count": 8,
      "outputs": [
        {
          "output_type": "execute_result",
          "data": {
            "text/plain": [
              "tensor([[0.7662, 0.2578, 0.1472, 0.1042, 0.3929, 0.6102, 0.7158, 0.5953, 0.6156,\n",
              "         0.7138]])"
            ]
          },
          "metadata": {
            "tags": []
          },
          "execution_count": 8
        }
      ]
    },
    {
      "cell_type": "code",
      "metadata": {
        "id": "dEHw2h3eQmwZ",
        "outputId": "81eba64e-95e1-44a1-cd61-ce4aacf39e34",
        "colab": {
          "base_uri": "https://localhost:8080/"
        }
      },
      "source": [
        "y"
      ],
      "execution_count": 9,
      "outputs": [
        {
          "output_type": "execute_result",
          "data": {
            "text/plain": [
              "tensor([[0.7662, 0.2578, 0.1472, 0.1042, 0.3929],\n",
              "        [0.6102, 0.7158, 0.5953, 0.6156, 0.7138]])"
            ]
          },
          "metadata": {
            "tags": []
          },
          "execution_count": 9
        }
      ]
    },
    {
      "cell_type": "code",
      "metadata": {
        "id": "Fq0-QGZRQt5C"
      },
      "source": [
        "y = y.view([1, 10])"
      ],
      "execution_count": 10,
      "outputs": []
    },
    {
      "cell_type": "code",
      "metadata": {
        "id": "TNVOuij7QwIK",
        "outputId": "30dbd136-2f69-424a-be9e-fe4f77719705",
        "colab": {
          "base_uri": "https://localhost:8080/"
        }
      },
      "source": [
        "y"
      ],
      "execution_count": 11,
      "outputs": [
        {
          "output_type": "execute_result",
          "data": {
            "text/plain": [
              "tensor([[0.7662, 0.2578, 0.1472, 0.1042, 0.3929, 0.6102, 0.7158, 0.5953, 0.6156,\n",
              "         0.7138]])"
            ]
          },
          "metadata": {
            "tags": []
          },
          "execution_count": 11
        }
      ]
    },
    {
      "cell_type": "code",
      "metadata": {
        "id": "Nck-adwKQ1Vc"
      },
      "source": [
        ""
      ],
      "execution_count": null,
      "outputs": []
    }
  ]
}